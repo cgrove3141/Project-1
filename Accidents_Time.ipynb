{
 "cells": [
  {
   "cell_type": "code",
   "execution_count": 1,
   "metadata": {},
   "outputs": [],
   "source": [
    "import pandas as pd\n",
    "import numpy as np\n",
    "import datetime as dt\n",
    "import matplotlib.pyplot as plt\n",
    "import numpy as np\n",
    "from matplotlib import pyplot\n",
    "import seaborn as sns\n",
    "import dateutil.parser\n",
    "from pandas import Timestamp"
   ]
  },
  {
   "cell_type": "code",
   "execution_count": 2,
   "metadata": {},
   "outputs": [
    {
     "data": {
      "text/html": [
       "<div>\n",
       "<style scoped>\n",
       "    .dataframe tbody tr th:only-of-type {\n",
       "        vertical-align: middle;\n",
       "    }\n",
       "\n",
       "    .dataframe tbody tr th {\n",
       "        vertical-align: top;\n",
       "    }\n",
       "\n",
       "    .dataframe thead th {\n",
       "        text-align: right;\n",
       "    }\n",
       "</style>\n",
       "<table border=\"1\" class=\"dataframe\">\n",
       "  <thead>\n",
       "    <tr style=\"text-align: right;\">\n",
       "      <th></th>\n",
       "      <th>Start_Time</th>\n",
       "      <th>City</th>\n",
       "      <th>State</th>\n",
       "      <th>Timezone</th>\n",
       "    </tr>\n",
       "  </thead>\n",
       "  <tbody>\n",
       "    <tr>\n",
       "      <th>0</th>\n",
       "      <td>2/8/2016 5:46</td>\n",
       "      <td>Dayton</td>\n",
       "      <td>OH</td>\n",
       "      <td>US/Eastern</td>\n",
       "    </tr>\n",
       "    <tr>\n",
       "      <th>1</th>\n",
       "      <td>2/8/2016 6:07</td>\n",
       "      <td>Reynoldsburg</td>\n",
       "      <td>OH</td>\n",
       "      <td>US/Eastern</td>\n",
       "    </tr>\n",
       "    <tr>\n",
       "      <th>2</th>\n",
       "      <td>2/8/2016 6:49</td>\n",
       "      <td>Williamsburg</td>\n",
       "      <td>OH</td>\n",
       "      <td>US/Eastern</td>\n",
       "    </tr>\n",
       "    <tr>\n",
       "      <th>3</th>\n",
       "      <td>2/8/2016 7:23</td>\n",
       "      <td>Dayton</td>\n",
       "      <td>OH</td>\n",
       "      <td>US/Eastern</td>\n",
       "    </tr>\n",
       "    <tr>\n",
       "      <th>4</th>\n",
       "      <td>2/8/2016 7:39</td>\n",
       "      <td>Dayton</td>\n",
       "      <td>OH</td>\n",
       "      <td>US/Eastern</td>\n",
       "    </tr>\n",
       "    <tr>\n",
       "      <th>...</th>\n",
       "      <td>...</td>\n",
       "      <td>...</td>\n",
       "      <td>...</td>\n",
       "      <td>...</td>\n",
       "    </tr>\n",
       "    <tr>\n",
       "      <th>11482</th>\n",
       "      <td>1/17/2017 21:17</td>\n",
       "      <td>San Jose</td>\n",
       "      <td>CA</td>\n",
       "      <td>US/Pacific</td>\n",
       "    </tr>\n",
       "    <tr>\n",
       "      <th>11483</th>\n",
       "      <td>1/17/2017 21:16</td>\n",
       "      <td>Sacramento</td>\n",
       "      <td>CA</td>\n",
       "      <td>US/Pacific</td>\n",
       "    </tr>\n",
       "    <tr>\n",
       "      <th>11484</th>\n",
       "      <td>1/17/2017 21:21</td>\n",
       "      <td>Berkeley</td>\n",
       "      <td>CA</td>\n",
       "      <td>US/Pacific</td>\n",
       "    </tr>\n",
       "    <tr>\n",
       "      <th>11485</th>\n",
       "      <td>1/17/2017 21:23</td>\n",
       "      <td>San Mateo</td>\n",
       "      <td>CA</td>\n",
       "      <td>US/Pacific</td>\n",
       "    </tr>\n",
       "    <tr>\n",
       "      <th>11486</th>\n",
       "      <td>1/17/2017 21:22</td>\n",
       "      <td>Concord</td>\n",
       "      <td>CA</td>\n",
       "      <td>US/Pacific</td>\n",
       "    </tr>\n",
       "  </tbody>\n",
       "</table>\n",
       "<p>11487 rows × 4 columns</p>\n",
       "</div>"
      ],
      "text/plain": [
       "            Start_Time          City State    Timezone\n",
       "0        2/8/2016 5:46        Dayton    OH  US/Eastern\n",
       "1        2/8/2016 6:07  Reynoldsburg    OH  US/Eastern\n",
       "2        2/8/2016 6:49  Williamsburg    OH  US/Eastern\n",
       "3        2/8/2016 7:23        Dayton    OH  US/Eastern\n",
       "4        2/8/2016 7:39        Dayton    OH  US/Eastern\n",
       "...                ...           ...   ...         ...\n",
       "11482  1/17/2017 21:17      San Jose    CA  US/Pacific\n",
       "11483  1/17/2017 21:16    Sacramento    CA  US/Pacific\n",
       "11484  1/17/2017 21:21      Berkeley    CA  US/Pacific\n",
       "11485  1/17/2017 21:23     San Mateo    CA  US/Pacific\n",
       "11486  1/17/2017 21:22       Concord    CA  US/Pacific\n",
       "\n",
       "[11487 rows x 4 columns]"
      ]
     },
     "execution_count": 2,
     "metadata": {},
     "output_type": "execute_result"
    }
   ],
   "source": [
    "traffic = pd.read_csv(\"US_Accidents_June20.csv\")\n",
    "\n",
    "time_df = traffic[['Start_Time','City','State','Timezone']]\n",
    "\n",
    "time_df"
   ]
  },
  {
   "cell_type": "code",
   "execution_count": 3,
   "metadata": {},
   "outputs": [],
   "source": [
    "# dti = pd.date_range (start= '2016-02-08 06:07:00',\n",
    "#                     freq='H', periods=3, tz= 'US/Eastern')\n",
    "# dti"
   ]
  },
  {
   "cell_type": "code",
   "execution_count": 4,
   "metadata": {},
   "outputs": [],
   "source": [
    "# dti.tz_localize\n",
    "# index =  pd.date_range (start= '2016-02-08 06:07:00',\n",
    "#                     freq='H', periods=11487, tz= 'US/Eastern')\n",
    "# time_df = pd.DataFrame(1, index=index, columns = ['X'])\n",
    "# time_df"
   ]
  },
  {
   "cell_type": "code",
   "execution_count": 5,
   "metadata": {},
   "outputs": [
    {
     "data": {
      "text/plain": [
       "1   2016-02-08 06:07:00\n",
       "2   2016-02-08 06:49:00\n",
       "3   2016-02-08 07:23:00\n",
       "4   2016-02-08 07:39:00\n",
       "5   2016-02-08 07:44:00\n",
       "Name: Start_Time, dtype: datetime64[ns]"
      ]
     },
     "execution_count": 5,
     "metadata": {},
     "output_type": "execute_result"
    }
   ],
   "source": [
    "date_time = time_df['Start_Time'][1:30].apply(lambda x: dateutil.parser.parse(x))\n",
    "date_time.head()"
   ]
  },
  {
   "cell_type": "code",
   "execution_count": null,
   "metadata": {},
   "outputs": [],
   "source": []
  },
  {
   "cell_type": "code",
   "execution_count": 6,
   "metadata": {},
   "outputs": [],
   "source": [
    "# dti = pd.date_range (start= '2016-02-08 06:07:00',\n",
    "#                     freq='H', periods=3, tz= 'US/Eastern')\n",
    "# dti"
   ]
  },
  {
   "cell_type": "code",
   "execution_count": 7,
   "metadata": {},
   "outputs": [],
   "source": [
    "# dti.tz_localize\n",
    "# index =  pd.date_range (start= '2016-02-08 06:07:00',\n",
    "#                     freq='H', periods=11487, tz= 'US/Eastern')\n",
    "# time_df = pd.DataFrame(1, index=index, columns = ['X'])\n",
    "# time_df"
   ]
  },
  {
   "cell_type": "code",
   "execution_count": 8,
   "metadata": {},
   "outputs": [
    {
     "name": "stderr",
     "output_type": "stream",
     "text": [
      "<ipython-input-8-14ead409dc0c>:1: SettingWithCopyWarning: \n",
      "A value is trying to be set on a copy of a slice from a DataFrame.\n",
      "Try using .loc[row_indexer,col_indexer] = value instead\n",
      "\n",
      "See the caveats in the documentation: https://pandas.pydata.org/pandas-docs/stable/user_guide/indexing.html#returning-a-view-versus-a-copy\n",
      "  time_df[\"Hour\"] =time_df['Start_Time'].apply(lambda x: dateutil.parser.parse(x))\n"
     ]
    },
    {
     "data": {
      "text/plain": [
       "0    5\n",
       "1    6\n",
       "2    6\n",
       "3    7\n",
       "Name: Hour, dtype: int64"
      ]
     },
     "execution_count": 8,
     "metadata": {},
     "output_type": "execute_result"
    }
   ],
   "source": [
    "time_df[\"Hour\"] =time_df['Start_Time'].apply(lambda x: dateutil.parser.parse(x))\n",
    "time_df['Hour'][0:4].apply(lambda timestamp: timestamp.hour)"
   ]
  },
  {
   "cell_type": "code",
   "execution_count": null,
   "metadata": {},
   "outputs": [],
   "source": [
    "time_df['Hour'][0:4].apply(lambda timestamp: timestamp.hour)"
   ]
  },
  {
   "cell_type": "code",
   "execution_count": null,
   "metadata": {},
   "outputs": [],
   "source": [
    "# time_df['Hour'].plot(kind=\"bar\")\n",
    "# plt.title('Accidents by Hour')\n",
    "# plt.show"
   ]
  },
  {
   "cell_type": "code",
   "execution_count": 13,
   "metadata": {},
   "outputs": [
    {
     "data": {
      "text/plain": [
       "[(0.0, 24.0),\n",
       " Text(0.5, 0, 'Time of Day'),\n",
       " Text(0, 0.5, 'Number of Accidents'),\n",
       " Text(0.5, 1.0, 'Accidents by Hour')]"
      ]
     },
     "execution_count": 13,
     "metadata": {},
     "output_type": "execute_result"
    },
    {
     "data": {
      "image/png": "[encoded data removed]",
      "text/plain": [
       "<Figure size 842.4x595.44 with 1 Axes>"
      ]
     },
     "metadata": {
      "needs_background": "light"
     },
     "output_type": "display_data"
    }
   ],
   "source": [
    "dims = (11.7, 8.27)\n",
    "fig, ax = pyplot.subplots(figsize=dims)\n",
    "sns.countplot(x=time_df['Hour'].apply(lambda timestamp: timestamp.hoaur))\n",
    "ax.set(xlim=(0,24), xlabel = 'Time of Day', ylabel = 'Number of Accidents', title = 'Accidents by Hour')"
   ]
  },
  {
   "cell_type": "code",
   "execution_count": 35,
   "metadata": {},
   "outputs": [
    {
     "data": {
      "text/plain": [
       "[(0.0, 31.0),\n",
       " Text(0.5, 0, 'Day of the Month'),\n",
       " Text(0, 0.5, 'Number of Accidents'),\n",
       " Text(0.5, 1.0, 'Accidents by Days')]"
      ]
     },
     "execution_count": 35,
     "metadata": {},
     "output_type": "execute_result"
    },
    {
     "data": {
      "image/png": "[encoded data removed]",
      "text/plain": [
       "<Figure size 720x504 with 1 Axes>"
      ]
     },
     "metadata": {
      "needs_background": "light"
     },
     "output_type": "display_data"
    }
   ],
   "source": [
    "dims = (10, 7)\n",
    "fig, ax = pyplot.subplots(figsize=dims)\n",
    "sns.countplot(x=time_df['Hour'].apply(lambda timestamp: timestamp.day))\n",
    "ax.set(xlim=(0,31), xlabel = 'Day of the Month', ylabel = 'Number of Accidents', title = 'Accidents by Days')"
   ]
  },
  {
   "cell_type": "code",
   "execution_count": 17,
   "metadata": {},
   "outputs": [
    {
     "data": {
      "text/plain": [
       "11    798\n",
       "20    775\n",
       "21    688\n",
       "10    686\n",
       "16    682\n",
       "19    677\n",
       "18    670\n",
       "12    663\n",
       "15    660\n",
       "9     588\n",
       "14    577\n",
       "13    524\n",
       "17    469\n",
       "22    448\n",
       "8     435\n",
       "7     425\n",
       "0     306\n",
       "1     245\n",
       "2     243\n",
       "23    213\n",
       "6     194\n",
       "3     189\n",
       "5     178\n",
       "4     154\n",
       "Name: Hour, dtype: int64"
      ]
     },
     "execution_count": 17,
     "metadata": {},
     "output_type": "execute_result"
    }
   ],
   "source": [
    "time_list = time_df['Hour'].apply(lambda timestamp: timestamp.hour).value_counts()\n",
    "time_list"
   ]
  },
  {
   "cell_type": "code",
   "execution_count": 18,
   "metadata": {},
   "outputs": [
    {
     "data": {
      "text/plain": [
       "0     306\n",
       "1     245\n",
       "2     243\n",
       "3     189\n",
       "4     154\n",
       "5     178\n",
       "6     194\n",
       "7     425\n",
       "8     435\n",
       "9     588\n",
       "10    686\n",
       "11    798\n",
       "12    663\n",
       "13    524\n",
       "14    577\n",
       "15    660\n",
       "16    682\n",
       "17    469\n",
       "18    670\n",
       "19    677\n",
       "20    775\n",
       "21    688\n",
       "22    448\n",
       "23    213\n",
       "Name: Hour, dtype: int64"
      ]
     },
     "execution_count": 18,
     "metadata": {},
     "output_type": "execute_result"
    }
   ],
   "source": [
    "tl = time_list.sort_index(axis = 0, ascending=True, inplace=False,sort_remaining=True,key=None)\n",
    "tl"
   ]
  },
  {
   "cell_type": "code",
   "execution_count": null,
   "metadata": {},
   "outputs": [],
   "source": [
    "\n"
   ]
  },
  {
   "cell_type": "code",
   "execution_count": null,
   "metadata": {},
   "outputs": [],
   "source": []
  },
  {
   "cell_type": "code",
   "execution_count": null,
   "metadata": {},
   "outputs": [],
   "source": []
  }
 ],
 "metadata": {
  "kernelspec": {
   "display_name": "Python [conda env:.conda-PythonData]*",
   "language": "python",
   "name": "myenv"
  },
  "language_info": {
   "codemirror_mode": {
    "name": "ipython",
    "version": 3
   },
   "file_extension": ".py",
   "mimetype": "text/x-python",
   "name": "python",
   "nbconvert_exporter": "python",
   "pygments_lexer": "ipython3",
   "version": "3.8.5"
  }
 },
 "nbformat": 4,
 "nbformat_minor": 4
}
